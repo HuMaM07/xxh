{
  "cells": [
    {
      "cell_type": "markdown",
      "metadata": {
        "id": "view-in-github",
        "colab_type": "text"
      },
      "source": [
        "<a href=\"https://colab.research.google.com/github/HuMaM07/xxh/blob/master/Facefusion.ipynb\" target=\"_parent\"><img src=\"https://colab.research.google.com/assets/colab-badge.svg\" alt=\"Open In Colab\"/></a>"
      ]
    },
    {
      "cell_type": "code",
      "execution_count": null,
      "metadata": {
        "colab": {
          "base_uri": "https://localhost:8080/"
        },
        "collapsed": true,
        "id": "XaqO7feu9sAw",
        "outputId": "e98ba5af-d74e-4c9f-e577-630f305e3011"
      },
      "outputs": [
        {
          "output_type": "stream",
          "name": "stdout",
          "text": [
            "Installed!\n"
          ]
        }
      ],
      "source": [
        "# @title\n",
        "from IPython.display import clear_output\n",
        "import codecs\n",
        "import torch\n",
        "\n",
        "if torch.cuda.is_available():\n",
        "  device=\"cuda\"\n",
        "  !apt-get install nvidia-cuda-toolkit\n",
        "  print(\"Using GPU\")\n",
        "else:\n",
        "  device=\"cpu\"\n",
        "  print(\"Using CPU\")\n",
        "\n",
        "giturl = codecs.decode('uggcf://tvguho.pbz/Mnpulfnhef/snprshfvba.tvg','rot_13')\n",
        "gitdir = codecs.decode('snprshfvba','rot_13')\n",
        "!git clone {giturl}\n",
        "%cd /content/{gitdir}\n",
        "!python install.py --onnxruntime cuda-11.8 --skip-conda\n",
        "\n",
        "clear_output()\n",
        "print(\"Installed!\")"
      ]
    },
    {
      "cell_type": "code",
      "execution_count": null,
      "metadata": {
        "cellView": "form",
        "colab": {
          "base_uri": "https://localhost:8080/"
        },
        "collapsed": true,
        "outputId": "67ceb876-759d-4abb-b440-d75a19a413ba",
        "id": "2updpUlbRQ7S"
      },
      "outputs": [
        {
          "output_type": "stream",
          "name": "stdout",
          "text": [
            "/content/facefusion\n",
            "Downloading: 100% 22.5M/22.5M [00:00<00:00, 33.2MB/s]\n",
            "Downloading: 100% 93.4M/93.4M [00:01<00:00, 89.2MB/s]\n",
            "Downloading: 100% 922k/922k [00:00<00:00, 1.61MB/s] \n",
            "Downloading: 100% 1.26M/1.26M [00:00<00:00, 2.19MB/s]\n",
            "Downloading: 100% 12.1M/12.1M [00:00<00:00, 18.6MB/s]\n",
            "Downloading: 100% 166M/166M [00:01<00:00, 131MB/s]\n",
            "Downloading: 100% 67.1M/67.1M [00:00<00:00, 75.8MB/s]\n",
            "Downloading: 100% 50.7M/50.7M [00:00<00:00, 68.1MB/s]\n",
            "Downloading: 100% 63.7M/63.7M [00:00<00:00, 81.5MB/s]\n",
            "Downloading: 100% 265M/265M [00:01<00:00, 146MB/s]\n",
            "IMPORTANT: You are using gradio version 3.50.2, however version 4.29.0 is available, please upgrade.\n",
            "--------\n",
            "IMPORTANT: You are using gradio version 3.50.2, however version 4.29.0 is available, please upgrade.\n",
            "--------\n",
            "IMPORTANT: You are using gradio version 3.50.2, however version 4.29.0 is available, please upgrade.\n",
            "--------\n",
            "IMPORTANT: You are using gradio version 3.50.2, however version 4.29.0 is available, please upgrade.\n",
            "--------\n",
            "IMPORTANT: You are using gradio version 3.50.2, however version 4.29.0 is available, please upgrade.\n",
            "--------\n",
            "IMPORTANT: You are using gradio version 3.50.2, however version 4.29.0 is available, please upgrade.\n",
            "--------\n",
            "IMPORTANT: You are using gradio version 3.50.2, however version 4.29.0 is available, please upgrade.\n",
            "--------\n",
            "IMPORTANT: You are using gradio version 3.50.2, however version 4.29.0 is available, please upgrade.\n",
            "--------\n",
            "IMPORTANT: You are using gradio version 3.50.2, however version 4.29.0 is available, please upgrade.\n",
            "--------\n",
            "IMPORTANT: You are using gradio version 3.50.2, however version 4.29.0 is available, please upgrade.\n",
            "--------\n",
            "IMPORTANT: You are using gradio version 3.50.2, however version 4.29.0 is available, please upgrade.\n",
            "IMPORTANT: You are using gradio version 3.50.2, however version 4.29.0 is available, please upgrade.\n",
            "--------\n",
            "--------\n",
            "IMPORTANT: You are using gradio version 3.50.2, however version 4.29.0 is available, please upgrade.\n",
            "--------\n",
            "Running on local URL:  http://127.0.0.1:7860\n",
            "IMPORTANT: You are using gradio version 3.50.2, however version 4.29.0 is available, please upgrade.\n",
            "--------\n",
            "IMPORTANT: You are using gradio version 3.50.2, however version 4.29.0 is available, please upgrade.\n",
            "--------\n",
            "IMPORTANT: You are using gradio version 3.50.2, however version 4.29.0 is available, please upgrade.\n",
            "--------\n",
            "IMPORTANT: You are using gradio version 3.50.2, however version 4.29.0 is available, please upgrade.\n",
            "--------\n",
            "IMPORTANT: You are using gradio version 3.50.2, however version 4.29.0 is available, please upgrade.\n",
            "--------\n",
            "Running on public URL: https://9607ebf90698bdc8f2.gradio.live\n",
            "Downloading: 100% 324M/324M [00:02<00:00, 169MB/s]\n",
            "Downloading: 100% 1.64M/1.64M [00:00<00:00, 2.97MB/s]\n",
            "Downloading: 100% 934M/934M [00:08<00:00, 113MB/s]\n",
            "Analysing: 100% 988/988 [00:08<00:00, 110.45frame/s, rate=0]\n",
            "[FACEFUSION.CORE] Extracting frames with a resolution of 1920x1080 and 60.0 frames per second\n",
            "[FACEFUSION.PROCESSORS.FRAME.MODULES.FACE_ENHANCER] Processing\n",
            "Processing: 100% 988/988 [03:44<00:00,  4.41frame/s, execution_providers=['cuda', 'cpu'], execution_thread_count=4, execution_queue_count=1]\n",
            "[FACEFUSION.PROCESSORS.FRAME.MODULES.FRAME_ENHANCER] Processing\n",
            "Processing:  20% 194/988 [09:32<39:02,  2.95s/frame, execution_providers=['cuda', 'cpu'], execution_thread_count=4, execution_queue_count=1]\n",
            "[FACEFUSION.PROCESSORS.FRAME.MODULES.FRAME_COLORIZER] Processing\n",
            "Processing:   0% 0/988 [00:00<?, ?frame/s, execution_providers=['cuda', 'cpu'], execution_thread_count=4, execution_queue_count=1]\n",
            "[FACEFUSION.CORE] Processing stopped\n",
            "[FACEFUSION.CORE] Extracting frames with a resolution of 1920x1080 and 60.0 frames per second\n",
            "[FACEFUSION.PROCESSORS.FRAME.MODULES.FACE_ENHANCER] Processing\n",
            "Processing: 100% 988/988 [03:45<00:00,  4.38frame/s, execution_providers=['cuda', 'cpu'], execution_thread_count=4, execution_queue_count=1]\n",
            "[FACEFUSION.PROCESSORS.FRAME.MODULES.FRAME_COLORIZER] Processing\n",
            "Processing: 100% 988/988 [04:58<00:00,  3.31frame/s, execution_providers=['cuda', 'cpu'], execution_thread_count=4, execution_queue_count=1]\n",
            "[FACEFUSION.CORE] Merging video with a resolution of 1920x1080 and 60.0 frames per second\n",
            "[FACEFUSION.CORE] Processing to video succeed in 799.09 seconds\n"
          ]
        }
      ],
      "source": [
        "# @title\n",
        "import codecs\n",
        "gitdir = codecs.decode('snprshfvba','rot_13')\n",
        "%cd /content/{gitdir}\n",
        "\n",
        "if device==\"cuda\":\n",
        "  !python run.py --execution-providers cpu cuda\n",
        "else:\n",
        "  !python run.py --execution-providers cpu"
      ]
    }
  ],
  "metadata": {
    "accelerator": "GPU",
    "colab": {
      "gpuType": "T4",
      "provenance": [],
      "include_colab_link": true
    },
    "kernelspec": {
      "display_name": "Python 3",
      "name": "python3"
    },
    "language_info": {
      "name": "python"
    }
  },
  "nbformat": 4,
  "nbformat_minor": 0
}